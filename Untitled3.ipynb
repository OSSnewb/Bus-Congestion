{
  "nbformat": 4,
  "nbformat_minor": 0,
  "metadata": {
    "colab": {
      "name": "Untitled3.ipynb",
      "provenance": [],
      "authorship_tag": "ABX9TyOTUYSPDt77FMuX1ymAbmdU",
      "include_colab_link": true
    },
    "kernelspec": {
      "name": "python3",
      "display_name": "Python 3"
    },
    "language_info": {
      "name": "python"
    }
  },
  "cells": [
    {
      "cell_type": "markdown",
      "metadata": {
        "id": "view-in-github",
        "colab_type": "text"
      },
      "source": [
        "<a href=\"https://colab.research.google.com/github/OSSnewb/Bus-Congestion/blob/main/Untitled3.ipynb\" target=\"_parent\"><img src=\"https://colab.research.google.com/assets/colab-badge.svg\" alt=\"Open In Colab\"/></a>"
      ]
    },
    {
      "cell_type": "code",
      "execution_count": null,
      "metadata": {
        "id": "gPTAA0wp4Wl5"
      },
      "outputs": [],
      "source": [
        "import datetime as d_t\n",
        "class Door:\n",
        "    def __init__(self,what):\n",
        "        self.what=what\n",
        "    def EnterOpen(self):\n",
        "        return 1\n",
        "    def EnterClose(self):\n",
        "        return 0\n",
        "    def ExitOpen(self):\n",
        "        return 1\n",
        "    def ExitClose(self):\n",
        "        return 0\n",
        "class Server:\n",
        "    def __init__(self,Id,num,Money):\n",
        "        self.Id=[]\n",
        "        self.num=num\n",
        "        self.Money=Money\n",
        "        \n",
        "    def Id(self,Id):\n",
        "        self.Id.append(Id)\n",
        "    def TotalUser(self,num):\n",
        "        return self.num\n",
        "\n",
        "\n",
        "\n",
        "        \n",
        "Usercal=0\n",
        "\n",
        "User=Server('Bus',1,1)\n",
        "\n",
        "Door_status=Door(\"what\")\n",
        "while(1):\n",
        "    a=input()\n",
        "    if(a==\"EnterOpen\"):\n",
        "        while(Door_status.EnterOpen()):\n",
        "            User.Id.append(input())\n",
        "            if(User.Id[-1]==\"0\"): #문 열었는데 손님이 탑승 안했을 때\n",
        "                Door_status.ExitClose()\n",
        "                break\n",
        "            Usercal+=1\n",
        "\n",
        "    if(a==\"ExitOpen\"):\n",
        "        while(Door_status.ExitOpen()):\n",
        "            User.Id.append(input())\n",
        "            if(User.Id[-1]==0):\n",
        "                Door_status.ExitClose()\n",
        "            Usercal-=1\n",
        "    \n",
        "    \n",
        "    if(0<=User.TotalUser(Usercal)<26):print(\"양호\")\n",
        "    elif(26<=User.TotalUser(Usercal)<36):print(\"보통\")\n",
        "    else: print(\"혼잡\")\n",
        "3\n"
      ]
    }
  ]
}