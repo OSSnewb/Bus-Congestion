{
  "nbformat": 4,
  "nbformat_minor": 0,
  "metadata": {
    "colab": {
      "name": "Untitled2.ipynb",
      "provenance": [],
      "authorship_tag": "ABX9TyNJusuCWNmeItectYjvwBGI",
      "include_colab_link": true
    },
    "kernelspec": {
      "name": "python3",
      "display_name": "Python 3"
    },
    "language_info": {
      "name": "python"
    }
  },
  "cells": [
    {
      "cell_type": "markdown",
      "metadata": {
        "id": "view-in-github",
        "colab_type": "text"
      },
      "source": [
        "<a href=\"https://colab.research.google.com/github/OSSnewb/Bus-Congestion/blob/main/Untitled2.ipynb\" target=\"_parent\"><img src=\"https://colab.research.google.com/assets/colab-badge.svg\" alt=\"Open In Colab\"/></a>"
      ]
    },
    {
      "cell_type": "markdown",
      "source": [
        "#프밍설계 버스 \n"
      ],
      "metadata": {
        "id": "L-lF4TcTkGIi"
      }
    },
    {
      "cell_type": "markdown",
      "source": [
        "- 1. 문 센서 클래스\n"
      ],
      "metadata": {
        "id": "w7ejjk8c4nFY"
      }
    },
    {
      "cell_type": "code",
      "source": [
        "import datetime as d_t\n",
        "class Door:\n",
        "  def __init__(self,what):\n",
        "    self.what=what\n",
        "  def EnterOpen():\n",
        "    return 1\n",
        "  def EnterClose():\n",
        "    return 0\n",
        "  def ExitOpne():\n",
        "    return 1\n",
        "  def ExitClose():\n",
        "    return 0\n",
        " "
      ],
      "metadata": {
        "id": "NLHE7xBa51Bk"
      },
      "execution_count": null,
      "outputs": []
    },
    {
      "cell_type": "markdown",
      "source": [
        "- 2. 손님 받기"
      ],
      "metadata": {
        "id": "cMxkQN0P49xb"
      }
    },
    {
      "cell_type": "code",
      "source": [
        "Door_status=Door.EnterOpne()\n",
        "while(Door_status):\n",
        "    User=int(input())\n",
        "    TIme=d_t.datetime.now()\n",
        "    if(User==False):Door_status=Door.EnterClose()\n",
        "    "
      ],
      "metadata": {
        "id": "l6fRbOye5Aa_"
      },
      "execution_count": null,
      "outputs": []
    }
  ]
}